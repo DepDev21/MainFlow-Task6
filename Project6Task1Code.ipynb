# ✅ TASK 6: Time Series Full Pipeline — Trend, ARIMA Forecast, Evaluation

import pandas as pd
import matplotlib.pyplot as plt
from statsmodels.tsa.arima.model import ARIMA
from sklearn.metrics import mean_squared_error, mean_absolute_percentage_error
import numpy as np

# Load dataset
df = pd.read_csv('sales_data.csv')
df['Date'] = pd.to_datetime(df['Date'])
df.set_index('Date', inplace=True)
df = df.asfreq('D')  # ✅ Explicit frequency

print(df.head())

# Visualize sales trend
plt.figure(figsize=(10,5))
plt.plot(df.index, df['Sales'], marker='o')
plt.title('Sales Over Time')
plt.xlabel('Date')
plt.ylabel('Sales')
plt.grid(True)
plt.show()

# Fit ARIMA model
model = ARIMA(df['Sales'], order=(1,1,1))
model_fit = model.fit()

# Forecast next 5 days
forecast = model_fit.forecast(steps=5)
forecast_dates = pd.date_range(start=df.index[-1] + pd.Timedelta(days=1), periods=5, freq='D')

df_forecast = pd.DataFrame({
    'Date': forecast_dates,
    'Forecasted Sales': forecast
})

print("\nForecasted Sales:")
print(df_forecast)

# Plot actual + forecasted
plt.figure(figsize=(10,5))
plt.plot(df.index, df['Sales'], label='Actual')
plt.plot(df_forecast['Date'], df_forecast['Forecasted Sales'], label='Forecast', marker='o')
plt.title('Sales Forecast')
plt.xlabel('Date')
plt.ylabel('Sales')
plt.legend()
plt.grid(True)
plt.show()

# Validate on last 5
train = df['Sales'][:-5]
test = df['Sales'][-5:]

model_val = ARIMA(train, order=(1,1,1)).fit()
pred = model_val.forecast(steps=5)

rmse = np.sqrt(mean_squared_error(test, pred))
mape = mean_absolute_percentage_error(test, pred)

print(f"\nValidation RMSE: {rmse:.2f}")
print(f"Validation MAPE: {mape:.2%}")
