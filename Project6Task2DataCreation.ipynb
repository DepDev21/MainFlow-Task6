# ✅ HEART DISEASE: Generate Dataset (15 entries)

import pandas as pd
import numpy as np

np.random.seed(1)

num_patients = 15

age = np.random.randint(30, 80, num_patients)
gender = np.random.choice(['Male', 'Female'], num_patients)
cholesterol = np.random.randint(150, 300, num_patients)
blood_pressure = np.random.randint(90, 180, num_patients)
heart_disease = np.random.choice([0, 1], num_patients)

df_hd = pd.DataFrame({
    'Age': age,
    'Gender': gender,
    'Cholesterol': cholesterol,
    'Blood Pressure': blood_pressure,
    'Heart Disease': heart_disease
})

df_hd.to_csv('heart_disease.csv', index=False)
df_hd
