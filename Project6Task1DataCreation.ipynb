# ✅ TASK 6: GENERATE SALES DATASET

import pandas as pd
import numpy as np

np.random.seed(42)

# 15 days
dates = pd.date_range(start='2024-01-01', periods=15, freq='D')
sales = np.random.randint(50, 200, size=15)

df_sales = pd.DataFrame({
    'Date': dates,
    'Sales': sales
})

df_sales.to_csv('sales_data.csv', index=False)
df_sales
